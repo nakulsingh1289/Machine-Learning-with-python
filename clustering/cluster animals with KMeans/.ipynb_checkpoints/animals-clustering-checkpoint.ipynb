{
 "cells": [
  {
   "cell_type": "markdown",
   "metadata": {},
   "source": [
    "# Clustering animals with attributes"
   ]
  },
  {
   "cell_type": "markdown",
   "metadata": {},
   "source": [
    "In this notebook, we'll get a feel for clustering by applying <font color=\"magenta\">**k-means**</font> and <font color=\"magenta\">**average linkage**</font> to cluster a collection of animals.\n",
    "\n",
    "The data set we'll work with is called `Animals with Attributes`. It contains information about 50 animals. For each, it has 85 real-valued features that capture various properties of the animal: where it lives, what it eats, and so on. You can download the data set from:\n",
    "\n",
    "http://attributes.kyb.tuebingen.mpg.de\n",
    "\n",
    "(Under \"Downloads\", choose the \"base package\".) Make sure the files `'classes.txt'` and `'predicate-matrix-continuous.txt'` are in the same directory as this notebook before you begin."
   ]
  },
  {
   "cell_type": "code",
   "execution_count": 1,
   "metadata": {},
   "outputs": [],
   "source": [
    "## load the dataset\n",
    "\n",
    "%matplotlib inline\n",
    "import matplotlib\n",
    "import matplotlib.pyplot\n",
    "import numpy as np\n",
    "import scipy.cluster.hierarchy as sch\n",
    "from sklearn.cluster import KMeans"
   ]
  },
  {
   "cell_type": "markdown",
   "metadata": {},
   "source": [
    "Load in the data set. The file `'classes.txt'` contains the names of the 50 animals. The file `'predicate-matrix-continuous.txt'` contains the data itself: 85 attributes per animal."
   ]
  },
  {
   "cell_type": "code",
   "execution_count": 2,
   "metadata": {},
   "outputs": [
    {
     "name": "stdout",
     "output_type": "stream",
     "text": [
      "(50, 85)\n"
     ]
    },
    {
     "data": {
      "text/plain": [
       "50"
      ]
     },
     "execution_count": 2,
     "metadata": {},
     "output_type": "execute_result"
    }
   ],
   "source": [
    "#\n",
    "# Load in animal names\n",
    "#\n",
    "f = open('classes.txt')\n",
    "lines = f.readlines()\n",
    "names = []\n",
    "for line in lines:\n",
    "    (key,val) = line.split()\n",
    "    names.append(val)\n",
    "f.close()\n",
    "#\n",
    "# Load attribute matrix\n",
    "#\n",
    "x = np.loadtxt('predicate-matrix-continuous.txt')\n",
    "print(x.shape)\n",
    "len(names)"
   ]
  },
  {
   "cell_type": "code",
   "execution_count": 3,
   "metadata": {},
   "outputs": [
    {
     "name": "stdout",
     "output_type": "stream",
     "text": [
      "['antelope', 'grizzly+bear', 'killer+whale', 'beaver', 'dalmatian', 'persian+cat', 'horse', 'german+shepherd', 'blue+whale', 'siamese+cat', 'skunk', 'mole', 'tiger', 'hippopotamus', 'leopard', 'moose', 'spider+monkey', 'humpback+whale', 'elephant', 'gorilla', 'ox', 'fox', 'sheep', 'seal', 'chimpanzee', 'hamster', 'squirrel', 'rhinoceros', 'rabbit', 'bat', 'giraffe', 'wolf', 'chihuahua', 'rat', 'weasel', 'otter', 'buffalo', 'zebra', 'giant+panda', 'deer', 'bobcat', 'pig', 'lion', 'mouse', 'polar+bear', 'collie', 'walrus', 'raccoon', 'cow', 'dolphin']\n"
     ]
    }
   ],
   "source": [
    "print(names)"
   ]
  },
  {
   "cell_type": "markdown",
   "metadata": {},
   "source": [
    "##  K-means clustering"
   ]
  },
  {
   "cell_type": "markdown",
   "metadata": {},
   "source": [
    "\n",
    "We now run Lloyd's algorithm to obtain a flat clustering of the data. In the code below, we ask for k=15 clusters, but you should experiment with other choices.\n",
    "\n",
    "We ask for random initialization, which means that different runs of the algorithm will potentially have different outcomes. It is worth running the algorithm several times to see how the results change."
   ]
  },
  {
   "cell_type": "code",
   "execution_count": 4,
   "metadata": {},
   "outputs": [
    {
     "data": {
      "text/plain": [
       "array([ 5, 12,  1,  0, 10, 11,  9, 10,  1, 10, 14, 14,  8,  4,  8,  6,  7,\n",
       "        1,  4,  7,  6, 12,  2,  0,  7, 14,  7,  4, 14,  3,  9, 12, 10, 13,\n",
       "       13,  0,  5,  9, 11,  9, 12,  2,  8, 14, 11, 10,  1, 13,  2,  0])"
      ]
     },
     "execution_count": 4,
     "metadata": {},
     "output_type": "execute_result"
    }
   ],
   "source": [
    "#\n",
    "# Run Lloyd's algorithm\n",
    "#\n",
    "k = 15\n",
    "kmeans = KMeans(n_clusters=k, init='random')\n",
    "kmeans.fit(x)\n",
    "\n",
    "kmeans.labels_"
   ]
  },
  {
   "cell_type": "code",
   "execution_count": 5,
   "metadata": {},
   "outputs": [
    {
     "name": "stdout",
     "output_type": "stream",
     "text": [
      "1 ['beaver', 'seal', 'otter', 'dolphin']\n",
      "2 ['killer+whale', 'blue+whale', 'humpback+whale', 'walrus']\n",
      "3 ['sheep', 'pig', 'cow']\n",
      "4 ['bat']\n",
      "5 ['hippopotamus', 'elephant', 'rhinoceros']\n",
      "6 ['antelope', 'buffalo']\n",
      "7 ['moose', 'ox']\n",
      "8 ['spider+monkey', 'gorilla', 'chimpanzee', 'squirrel']\n",
      "9 ['tiger', 'leopard', 'lion']\n",
      "10 ['horse', 'giraffe', 'zebra', 'deer']\n",
      "11 ['dalmatian', 'german+shepherd', 'siamese+cat', 'chihuahua', 'collie']\n",
      "12 ['persian+cat', 'giant+panda', 'polar+bear']\n",
      "13 ['grizzly+bear', 'fox', 'wolf', 'bobcat']\n",
      "14 ['rat', 'weasel', 'raccoon']\n",
      "15 ['skunk', 'mole', 'hamster', 'rabbit', 'mouse']\n"
     ]
    }
   ],
   "source": [
    "#\n",
    "# Get a list of the animals in each cluster\n",
    "#\n",
    "clusters =[]\n",
    "for i in range(k):\n",
    "    clusters.append([])\n",
    "\n",
    "for i in range(0,50):\n",
    "    clusters[kmeans.labels_[i]].append(names[i])\n",
    "\n",
    "#\n",
    "# Print out clusters\n",
    "#\n",
    "for j in range(0,k):\n",
    "    print (j+1, clusters[j])"
   ]
  },
  {
   "cell_type": "code",
   "execution_count": 6,
   "metadata": {},
   "outputs": [
    {
     "name": "stdout",
     "output_type": "stream",
     "text": [
      "[[-1.   -1.   -1.   ...  2.35  9.7   8.38]\n",
      " [39.25  1.39  0.   ... 58.64 20.14 11.39]\n",
      " [83.4  64.79  0.   ... 15.77 13.41 15.42]\n",
      " ...\n",
      " [63.57 43.1   0.   ... 35.95 28.26  5.  ]\n",
      " [55.31 55.46  0.   ...  5.04 18.89 72.99]\n",
      " [10.22 21.53 27.73 ...  3.96 14.05 37.98]]\n"
     ]
    }
   ],
   "source": [
    "## Atributes\n",
    "print(x)"
   ]
  },
  {
   "cell_type": "code",
   "execution_count": 7,
   "metadata": {},
   "outputs": [
    {
     "data": {
      "image/png": "[encoded data removed]",
      "text/plain": [
       "<Figure size 576x1080 with 1 Axes>"
      ]
     },
     "metadata": {
      "needs_background": "light"
     },
     "output_type": "display_data"
    }
   ],
   "source": [
    "#\n",
    "# Adjust figure size to accommodate the full tree\n",
    "#\n",
    "from pylab import rcParams\n",
    "rcParams['figure.figsize'] = 8, 15\n",
    "#\n",
    "# Do hierarchical clustering using Ward's method\n",
    "#\n",
    "z = sch.linkage(x, method='average')\n",
    "\n",
    "#\n",
    "# Display dendrogram\n",
    "#\n",
    "info = sch.dendrogram(z, orientation='right', labels=names, leaf_font_size=9,p=10)"
   ]
  },
  {
   "cell_type": "code",
   "execution_count": null,
   "metadata": {},
   "outputs": [],
   "source": []
  }
 ],
 "metadata": {
  "kernelspec": {
   "display_name": "Python 3",
   "language": "python",
   "name": "python3"
  },
  "language_info": {
   "codemirror_mode": {
    "name": "ipython",
    "version": 3
   },
   "file_extension": ".py",
   "mimetype": "text/x-python",
   "name": "python",
   "nbconvert_exporter": "python",
   "pygments_lexer": "ipython3",
   "version": "3.7.4"
  }
 },
 "nbformat": 4,
 "nbformat_minor": 2
}
